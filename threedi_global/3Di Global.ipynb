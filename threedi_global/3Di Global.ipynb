{
 "cells": [
  {
   "cell_type": "code",
   "execution_count": 1,
   "id": "015c1975",
   "metadata": {},
   "outputs": [],
   "source": [
    "from main import create_threedimodel\n",
    "\n",
    "from getpass import getpass"
   ]
  },
  {
   "cell_type": "code",
   "execution_count": 2,
   "id": "cb1233fd",
   "metadata": {},
   "outputs": [
    {
     "name": "stdout",
     "output_type": "stream",
     "text": [
      "Get a 3Di API key from https://management.3di.live/personal_api_keys\n",
      "3Di API Key:········\n",
      "Get a Lizard API key from https://nens.lizard.net/management/personal_api_keys\n",
      "Lizard API Key:········\n"
     ]
    }
   ],
   "source": [
    "print(\"Get a 3Di API key from https://management.3di.live/personal_api_keys\")\n",
    "threedi_api_key = getpass(\"3Di API Key:\")\n",
    "print(\"Get a Lizard API key from https://nens.lizard.net/management/personal_api_keys\")\n",
    "lizard_api_key = getpass(\"Lizard API Key:\")\n"
   ]
  },
  {
   "cell_type": "code",
   "execution_count": 3,
   "id": "c82ff155",
   "metadata": {},
   "outputs": [
    {
     "name": "stdout",
     "output_type": "stream",
     "text": [
      "Temp local directory (defaults to C:\\Temp\\3Di Global)\n",
      "Schematisation name:Test3\n",
      "Fill in an extent filename, e.g. 'C:\\Temp\\3Di Global\\test_poly.gpkg'\n",
      "File containing the desired model extent:C:\\Temp\\3Di Global\\test_poly.gpkg\n",
      "Pixel size (m) (defaults to 10):\n",
      "Desired approx. nr. of cells (defaults to 50.000):\n",
      "DEM raster UUID (defaults to SRTM):\n"
     ]
    }
   ],
   "source": [
    "local_dir = input(r\"Temp local directory (defaults to C:\\Temp\\3Di Global)\") or r\"C:\\Temp\\3Di Global\"\n",
    "schematisation_name = input(\"Schematisation name:\")\n",
    "print(r\"Fill in an extent filename, e.g. 'C:\\Temp\\3Di Global\\test_poly.gpkg'\")\n",
    "extent_filename = input(\"File containing the desired model extent:\")\n",
    "pixel_size = input(\"Pixel size (m) (defaults to 10):\") or 10\n",
    "nr_cells = input(\"Desired approx. nr. of cells (defaults to 50.000):\") or 50000\n",
    "dem_raster_uuid = input(\"DEM raster UUID (defaults to SRTM):\") or \"eae92c48-cd68-4820-9d82-f86f763b4186\""
   ]
  },
  {
   "cell_type": "code",
   "execution_count": null,
   "id": "d0a68722",
   "metadata": {},
   "outputs": [
    {
     "name": "stdout",
     "output_type": "stream",
     "text": [
      "Creating local (temp) folder structure...\n",
      "Requesting DEM download link from Lizard...\n",
      "https://demo.lizard.net/api/v3/rasters/eae92c48-cd68-4820-9d82-f86f763b4186/data/?async=true&cellsize=10&format=geotiff&geom=POLYGON ((326336.998217204 16197.9385335623,321728.485802206 7902.61618656569,329839.467652603 1266.35830896837,336107.044537 5782.70047566655,340162.535462199 13340.6608362635,333434.107336301 14446.703815863,326336.998217204 16197.9385335623))&srs=EPSG:32637&target_srs=EPSG:32637\n"
     ]
    }
   ],
   "source": [
    "create_threedimodel(\n",
    "    threedi_api_key = threedi_api_key,\n",
    "    lizard_api_key = lizard_api_key,\n",
    "    local_dir=local_dir,\n",
    "    schematisation_name=schematisation_name,\n",
    "    extent_filename=extent_filename,\n",
    "    pixel_size=pixel_size,\n",
    "    nr_cells=nr_cells,\n",
    "    dem_raster_uuid=dem_raster_uuid\n",
    ")"
   ]
  },
  {
   "cell_type": "code",
   "execution_count": null,
   "id": "0e0c3b1f",
   "metadata": {},
   "outputs": [],
   "source": []
  }
 ],
 "metadata": {
  "kernelspec": {
   "display_name": "Python 3 (ipykernel)",
   "language": "python",
   "name": "python3"
  },
  "language_info": {
   "codemirror_mode": {
    "name": "ipython",
    "version": 3
   },
   "file_extension": ".py",
   "mimetype": "text/x-python",
   "name": "python",
   "nbconvert_exporter": "python",
   "pygments_lexer": "ipython3",
   "version": "3.7.3"
  }
 },
 "nbformat": 4,
 "nbformat_minor": 5
}
